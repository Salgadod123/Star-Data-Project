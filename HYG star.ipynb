{
 "cells": [
  {
   "cell_type": "code",
   "execution_count": null,
   "id": "f248e4ff-1c97-401c-af0b-5f0ef9a85a79",
   "metadata": {},
   "outputs": [],
   "source": [
    "import pandas as pd\n",
    "from sqlalchemy import create_engine\n",
    "import matplotlib.pyplot as plt\n",
    "import seaborn as sns\n"
   ]
  },
  {
   "cell_type": "code",
   "execution_count": null,
   "id": "c65ef0e3-c30b-421a-b121-7ae3ed882e19",
   "metadata": {
    "scrolled": true
   },
   "outputs": [],
   "source": [
    "df = pd.read_csv(r\"C:\\Users\\david\\Downloads\\hygdata_v41.csv\")\n",
    "engine = create_engine('sqlite:///stars.db', echo=True)\n",
    "sqlite_connection = engine.connect()\n",
    "df.to_sql('stars', sqlite_connection, if_exists='replace', index=False)\n",
    "\n"
   ]
  },
  {
   "cell_type": "code",
   "execution_count": null,
   "id": "e073365f-85db-49d8-9066-53f394b9e2b8",
   "metadata": {},
   "outputs": [],
   "source": [
    "query = \"SELECT * FROM stars LIMIT 100;\"\n",
    "df_result = pd.read_sql(query, con=engine)\n",
    "#Filtered top 100"
   ]
  },
  {
   "cell_type": "code",
   "execution_count": null,
   "id": "7b6031f1-7ba8-4249-8a78-48106c4e0610",
   "metadata": {},
   "outputs": [],
   "source": [
    "print(df_result)"
   ]
  },
  {
   "cell_type": "code",
   "execution_count": null,
   "id": "1430fe4d-7cb3-4228-bb97-e9e318cd59c7",
   "metadata": {},
   "outputs": [],
   "source": [
    "print(df['mag'].value_counts())  # See how many unique values exist\n"
   ]
  },
  {
   "cell_type": "code",
   "execution_count": null,
   "id": "f0b68ac5-7458-48af-a996-88d25a0bb35b",
   "metadata": {},
   "outputs": [],
   "source": [
    "Q1 = df['mag'].quantile(0.10)\n",
    "Q3 = df['mag'].quantile(0.90)\n",
    "IQR = Q3 - Q1\n",
    "lower_bound = Q1 -1.5 * IQR\n",
    "upper_bound = Q3 +1.5 * IQR\n",
    "df_filtered = df[(df['mag'] >= lower_bound) & (df['mag'] <= upper_bound)]\n",
    "#filter outliers"
   ]
  },
  {
   "cell_type": "code",
   "execution_count": null,
   "id": "b99a6912-2b07-4cec-9ded-e1592b8a3bd7",
   "metadata": {},
   "outputs": [],
   "source": [
    "plt.hist(df_filtered['mag'], bins=100, edgecolor='black')  # Use more bins for finer lines\n",
    "plt.xlabel(\"Magnitude\")\n",
    "plt.ylabel(\"Frequency\")\n",
    "plt.title(\"Distribution of Star Magnitudes\")\n",
    "plt.show()"
   ]
  },
  {
   "cell_type": "code",
   "execution_count": null,
   "id": "5eb67e2a-8e1d-4194-b0ce-14c3dc1934b1",
   "metadata": {},
   "outputs": [],
   "source": [
    "df_cleaned = df[['mag', 'spect', 'lum', 'dist','absmag']].dropna()\n",
    "print(df_cleaned.shape)\n",
    "df_sample=df_cleaned.sample(10)\n",
    "sns.pairplot(df_sample[['mag', 'spect', 'lum', 'dist']])\n",
    "plt.show()"
   ]
  },
  {
   "cell_type": "code",
   "execution_count": null,
   "id": "ac8ac25a-1318-4c42-9bea-979d1275b7eb",
   "metadata": {},
   "outputs": [],
   "source": [
    "plt.scatter(df_cleaned['mag'], df_cleaned['absmag'],s=.01)\n",
    "plt.xlabel('Magnitude')\n",
    "plt.ylabel('Absolute Magnitude')\n",
    "plt.title('Magnitude vs. Absolute Magnitude')\n",
    "plt.xlim(-10,20)\n",
    "plt.show()"
   ]
  },
  {
   "cell_type": "code",
   "execution_count": null,
   "id": "1ed895d9-f27b-454c-ae41-22707d482c3d",
   "metadata": {},
   "outputs": [],
   "source": [
    "plt.scatter(df_cleaned['mag'], df_cleaned['dist'],s=.1)\n",
    "plt.yscale('log')\n",
    "plt.xlabel('Magnitude')\n",
    "plt.ylabel('Absolute Magnitude')\n",
    "plt.title('Magnitude vs. Distance (Log Scale)')\n",
    "plt.show()"
   ]
  },
  {
   "cell_type": "code",
   "execution_count": null,
   "id": "b7f3d888-0849-41f2-9ccf-9eead87c1e48",
   "metadata": {},
   "outputs": [],
   "source": [
    "df_spec=df_cleaned[['mag', 'lum', 'dist','absmag']]\n",
    "correlation_matrix = df_spec.corr()\n",
    "plt.figure(figsize=(10, 8))\n",
    "sns.heatmap(correlation_matrix, annot=True, cmap='coolwarm', fmt='.2f')\n",
    "plt.title('Correlation Heatmap')\n",
    "plt.show()\n",
    "correlation_value = df['mag'].corr(df['dist'])\n",
    "print(f\"Pearson correlation between mag and dist: {correlation_value}\")\n"
   ]
  },
  {
   "cell_type": "code",
   "execution_count": null,
   "id": "7f464b99-421c-4f3f-bec4-735ea86052cc",
   "metadata": {},
   "outputs": [],
   "source": [
    "print(df.columns)"
   ]
  },
  {
   "cell_type": "code",
   "execution_count": null,
   "id": "ead6e7fd-c56c-407d-b8a1-0b56fface7be",
   "metadata": {},
   "outputs": [],
   "source": [
    "from sklearn.preprocessing import StandardScaler\n",
    "scaler = StandardScaler()\n",
    "dfl=df[['lum', 'dist', 'ci']].dropna()\n",
    "X_scaled = scaler.fit_transform(dfl)"
   ]
  },
  {
   "cell_type": "code",
   "execution_count": null,
   "id": "ed7d59f8-9ea3-4e94-bd89-f6902a92366e",
   "metadata": {},
   "outputs": [],
   "source": [
    "df['velocity_total'] = (df[['vx', 'vy', 'vz']]**2).sum(axis=1)**0.5\n",
    "df['position_r'] = (df[['x', 'y', 'z']]**2).sum(axis=1)**0.5\n"
   ]
  },
  {
   "cell_type": "code",
   "execution_count": null,
   "id": "ef10ed48-8afa-46fe-99a9-21af6d7b28a5",
   "metadata": {},
   "outputs": [],
   "source": [
    "from sklearn.cluster import KMeans\n",
    "kmeans = KMeans(n_clusters=3)\n",
    "clusters = kmeans.fit_predict(X_scaled)\n",
    "dfl['cluster'] = clusters\n",
    "sns.scatterplot(x='lum', y='dist', hue='cluster', data=dfl)\n",
    "plt.yscale('log')\n",
    "plt.xscale('log')\n",
    "plt.show()"
   ]
  },
  {
   "cell_type": "code",
   "execution_count": null,
   "id": "136e8762-ec25-4f11-b24e-760eac505461",
   "metadata": {},
   "outputs": [],
   "source": [
    "from mpl_toolkits.mplot3d import Axes3D\n",
    "fig = plt.figure()\n",
    "ax = fig.add_subplot(111, projection='3d')\n",
    "ax.scatter(df['x'], df['y'], df['z'], s=1)\n",
    "plt.title(\"3D Spatial Distribution of Stars\")\n",
    "plt.show()"
   ]
  },
  {
   "cell_type": "code",
   "execution_count": null,
   "id": "38682f9f-64e0-4976-9c79-0fd9a57c7bb0",
   "metadata": {},
   "outputs": [],
   "source": [
    "import plotly.express as px\n",
    "import plotly.io as pio\n",
    "\n",
    "\n",
    "pio.renderers.default = 'browser' \n",
    "\n",
    "fig = px.scatter_3d(\n",
    "    df, x='x', y='y', z='z',\n",
    "    color='mag',  \n",
    "    opacity=0.7,\n",
    "    title='Interactive 3D Spatial Distribution of Stars'\n",
    ")\n",
    "fig.show()"
   ]
  },
  {
   "cell_type": "code",
   "execution_count": null,
   "id": "f5171521-9a72-4f6f-b8cd-6166a70dc139",
   "metadata": {},
   "outputs": [],
   "source": [
    "sqlite_connection.close()\n",
    "engine.dispose()\n"
   ]
  }
 ],
 "metadata": {
  "kernelspec": {
   "display_name": "Python (euv)",
   "language": "python",
   "name": "euv"
  },
  "language_info": {
   "codemirror_mode": {
    "name": "ipython",
    "version": 3
   },
   "file_extension": ".py",
   "mimetype": "text/x-python",
   "name": "python",
   "nbconvert_exporter": "python",
   "pygments_lexer": "ipython3",
   "version": "3.10.16"
  }
 },
 "nbformat": 4,
 "nbformat_minor": 5
}
